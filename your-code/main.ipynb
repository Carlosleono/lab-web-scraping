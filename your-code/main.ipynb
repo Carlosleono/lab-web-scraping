{
 "cells": [
  {
   "cell_type": "markdown",
   "metadata": {},
   "source": [
    "# Web Scraping Lab\n",
    "\n",
    "You will find in this notebook some scrapy exercises to practise your scraping skills.\n",
    "\n",
    "**Tips:**\n",
    "\n",
    "- Check the response status code for each request to ensure you have obtained the intended contennt.\n",
    "- Print the response text in each request to understand the kind of info you are getting and its format.\n",
    "- Check for patterns in the response text to extract the data/info requested in each question.\n",
    "- Visit each url and take a look at its source through Chrome DevTools. You'll need to identify the html tags, special class names etc. used for the html content you are expected to extract."
   ]
  },
  {
   "cell_type": "markdown",
   "metadata": {},
   "source": [
    "- [Requests library](http://docs.python-requests.org/en/master/#the-user-guide) documentation \n",
    "- [Beautiful Soup Doc](https://www.crummy.com/software/BeautifulSoup/bs4/doc/)\n",
    "- [Urllib](https://docs.python.org/3/library/urllib.html#module-urllib)\n",
    "- [re lib](https://docs.python.org/3/library/re.html)\n",
    "- [lxml lib](https://lxml.de/)\n",
    "- [Scrapy](https://scrapy.org/)\n",
    "- [List of HTTP status codes](https://en.wikipedia.org/wiki/List_of_HTTP_status_codes)\n",
    "- [HTML basics](http://www.simplehtmlguide.com/cheatsheet.php)\n",
    "- [CSS basics](https://www.cssbasics.com/#page_start)"
   ]
  },
  {
   "cell_type": "markdown",
   "metadata": {},
   "source": [
    "#### Below are the libraries and modules you may need. `requests`,  `BeautifulSoup` and `pandas` are imported for you. If you prefer to use additional libraries feel free to uncomment them."
   ]
  },
  {
   "cell_type": "code",
   "execution_count": 1,
   "metadata": {},
   "outputs": [],
   "source": [
    "# %pip install scrapy"
   ]
  },
  {
   "cell_type": "code",
   "execution_count": 2,
   "metadata": {},
   "outputs": [],
   "source": [
    "import requests\n",
    "from bs4 import BeautifulSoup\n",
    "import pandas as pd\n",
    "from pprint import pprint\n",
    "from lxml import html\n",
    "from lxml.html import fromstring\n",
    "import urllib.request\n",
    "from urllib.request import urlopen\n",
    "import random\n",
    "import re\n",
    "#import scrapy"
   ]
  },
  {
   "cell_type": "code",
   "execution_count": 3,
   "metadata": {},
   "outputs": [],
   "source": [
    "import os\n",
    "from dotenv import load_dotenv"
   ]
  },
  {
   "cell_type": "markdown",
   "metadata": {},
   "source": [
    "#### Download, parse (using BeautifulSoup), and print the content from the Trending Developers page from GitHub:"
   ]
  },
  {
   "cell_type": "code",
   "execution_count": 4,
   "metadata": {},
   "outputs": [],
   "source": [
    "# This is the url you will scrape in this exercise\n",
    "url = 'https://github.com/trending/developers'"
   ]
  },
  {
   "cell_type": "code",
   "execution_count": 5,
   "metadata": {},
   "outputs": [],
   "source": [
    "#your code\n"
   ]
  },
  {
   "cell_type": "code",
   "execution_count": 6,
   "metadata": {},
   "outputs": [],
   "source": [
    "load_dotenv()\n",
    "token = os.getenv(\"github\")"
   ]
  },
  {
   "cell_type": "code",
   "execution_count": 7,
   "metadata": {},
   "outputs": [],
   "source": [
    "load_dotenv()\n",
    "token = os.getenv(\"github\")\n",
    "html = requests.get(url)\n",
    "soup = BeautifulSoup(html.content,\"html.parser\")"
   ]
  },
  {
   "cell_type": "code",
   "execution_count": 8,
   "metadata": {},
   "outputs": [],
   "source": [
    "# soup"
   ]
  },
  {
   "cell_type": "markdown",
   "metadata": {},
   "source": [
    "#### Display the names of the trending developers retrieved in the previous step.\n",
    "\n",
    "Your output should be a Python list of developer names. Each name should not contain any html tag.\n",
    "\n",
    "**Instructions:**\n",
    "\n",
    "1. Find out the html tag and class names used for the developer names. You can achieve this using Chrome DevTools.\n",
    "\n",
    "1. Use BeautifulSoup to extract all the html elements that contain the developer names.\n",
    "\n",
    "1. Use string manipulation techniques to replace whitespaces and linebreaks (i.e. `\\n`) in the *text* of each html element. Use a list to store the clean names.\n",
    "\n",
    "1. Print the list of names.\n",
    "\n",
    "Your output should look like below:\n",
    "\n",
    "```\n",
    "['trimstray (@trimstray)',\n",
    " 'joewalnes (JoeWalnes)',\n",
    " 'charlax (Charles-AxelDein)',\n",
    " 'ForrestKnight (ForrestKnight)',\n",
    " 'revery-ui (revery-ui)',\n",
    " 'alibaba (Alibaba)',\n",
    " 'Microsoft (Microsoft)',\n",
    " 'github (GitHub)',\n",
    " 'facebook (Facebook)',\n",
    " 'boazsegev (Bo)',\n",
    " 'google (Google)',\n",
    " 'cloudfetch',\n",
    " 'sindresorhus (SindreSorhus)',\n",
    " 'tensorflow',\n",
    " 'apache (TheApacheSoftwareFoundation)',\n",
    " 'DevonCrawford (DevonCrawford)',\n",
    " 'ARMmbed (ArmMbed)',\n",
    " 'vuejs (vuejs)',\n",
    " 'fastai (fast.ai)',\n",
    " 'QiShaoXuan (Qi)',\n",
    " 'joelparkerhenderson (JoelParkerHenderson)',\n",
    " 'torvalds (LinusTorvalds)',\n",
    " 'CyC2018',\n",
    " 'komeiji-satori (神楽坂覚々)',\n",
    " 'script-8']\n",
    " ```"
   ]
  },
  {
   "cell_type": "code",
   "execution_count": 9,
   "metadata": {},
   "outputs": [],
   "source": [
    "tags = soup.find_all('p', {'class': 'f4 text-normal mb-1'})"
   ]
  },
  {
   "cell_type": "code",
   "execution_count": 10,
   "metadata": {},
   "outputs": [
    {
     "data": {
      "text/plain": [
       "'wenzhixin'"
      ]
     },
     "execution_count": 10,
     "metadata": {},
     "output_type": "execute_result"
    }
   ],
   "source": [
    "#your code\n",
    "tags[0].getText().split('\\n')[2].strip()"
   ]
  },
  {
   "cell_type": "code",
   "execution_count": 11,
   "metadata": {},
   "outputs": [],
   "source": [
    "nombres = []\n",
    "for i in tags:\n",
    "    nombres.append(i.getText().split('\\n')[2].strip())"
   ]
  },
  {
   "cell_type": "code",
   "execution_count": 12,
   "metadata": {},
   "outputs": [
    {
     "data": {
      "text/plain": [
       "['wenzhixin',\n",
       " 'angus-c',\n",
       " 'yujincheng08',\n",
       " 'bokuweb',\n",
       " 'oerdnj',\n",
       " 'hanxiao',\n",
       " 'JeffreySu',\n",
       " 'tanersener',\n",
       " 'dodyg',\n",
       " 'rusty1s',\n",
       " 'mdlayher',\n",
       " 'jimmywarting',\n",
       " 'dapplion',\n",
       " 'samuelcolvin',\n",
       " 'koaning',\n",
       " 'pepibumur',\n",
       " 'jesserockz',\n",
       " 'PuruVJ',\n",
       " 'dtolnay',\n",
       " 'drwpow',\n",
       " 'JohnSundell',\n",
       " 'mrdoob',\n",
       " 'rmosolgo',\n",
       " 'keegancsmith',\n",
       " 'mikecao']"
      ]
     },
     "execution_count": 12,
     "metadata": {},
     "output_type": "execute_result"
    }
   ],
   "source": [
    "nombres"
   ]
  },
  {
   "cell_type": "markdown",
   "metadata": {},
   "source": [
    "#### Display the trending Python repositories in GitHub\n",
    "\n",
    "The steps to solve this problem is similar to the previous one except that you need to find out the repository names instead of developer names."
   ]
  },
  {
   "cell_type": "code",
   "execution_count": 13,
   "metadata": {},
   "outputs": [],
   "source": [
    "# This is the url you will scrape in this exercise\n",
    "url2 = 'https://github.com/trending/python?since=daily'"
   ]
  },
  {
   "cell_type": "code",
   "execution_count": 14,
   "metadata": {},
   "outputs": [],
   "source": [
    "#your code\n"
   ]
  },
  {
   "cell_type": "code",
   "execution_count": 15,
   "metadata": {},
   "outputs": [],
   "source": [
    "\n",
    "html2 = requests.get(url2)\n",
    "soup2 = BeautifulSoup(html2.content,\"html.parser\")"
   ]
  },
  {
   "cell_type": "code",
   "execution_count": 16,
   "metadata": {},
   "outputs": [],
   "source": [
    "tags2 = soup2.find_all('h1', {'class': 'h3 lh-condensed'})"
   ]
  },
  {
   "cell_type": "code",
   "execution_count": 17,
   "metadata": {},
   "outputs": [
    {
     "name": "stdout",
     "output_type": "stream",
     "text": [
      "Python-World / python-mini-projects\n"
     ]
    }
   ],
   "source": [
    "print(tags2[0].getText().split('\\n')[-4].strip(), tags2[0].getText().split('\\n')[-2].strip())"
   ]
  },
  {
   "cell_type": "code",
   "execution_count": 18,
   "metadata": {},
   "outputs": [],
   "source": [
    "repos = []\n",
    "for i in tags2:\n",
    "    repos.append(i.getText().split('\\n')[-4].strip()+ i.getText().split('\\n')[-2].strip())"
   ]
  },
  {
   "cell_type": "code",
   "execution_count": 19,
   "metadata": {},
   "outputs": [
    {
     "data": {
      "text/plain": [
       "['Python-World /python-mini-projects',\n",
       " 'huggingface /datasets',\n",
       " 'espnet /espnet',\n",
       " 'bregman-arie /devops-exercises',\n",
       " 'pytest-dev /pytest',\n",
       " 'tiangolo /fastapi',\n",
       " 'bhky /opennsfw2',\n",
       " 'TachibanaYoshino /AnimeGANv2',\n",
       " 'synacktiv /CVE-2021-40539',\n",
       " 'huggingface /transformers',\n",
       " 'netbox-community /netbox',\n",
       " 'public-apis /public-apis',\n",
       " 'WZMIAOMIAO /deep-learning-for-image-processing',\n",
       " 'ansible /ansible',\n",
       " 'swisskyrepo /PayloadsAllTheThings',\n",
       " 'pytorch /fairseq',\n",
       " 'demisto /content',\n",
       " 'PyGithub /PyGithub',\n",
       " 'danielgatis /rembg',\n",
       " 'tensorflow /models',\n",
       " 'mlflow /mlflow',\n",
       " 'open-mmlab /mmdetection',\n",
       " 'blakeblackshear /frigate',\n",
       " 'cupy /cupy',\n",
       " 'jackfrued /Python-100-Days']"
      ]
     },
     "execution_count": 19,
     "metadata": {},
     "output_type": "execute_result"
    }
   ],
   "source": [
    "repos"
   ]
  },
  {
   "cell_type": "markdown",
   "metadata": {},
   "source": [
    "#### Display all the image links from Walt Disney wikipedia page"
   ]
  },
  {
   "cell_type": "code",
   "execution_count": 100,
   "metadata": {},
   "outputs": [],
   "source": [
    "# This is the url you will scrape in this exercise\n",
    "disney = \"https://es.wikipedia.org/wiki/Walt_Disney\"\n",
    "html = requests.get(disney)\n",
    "soup = BeautifulSoup(html.content,\"html.parser\")"
   ]
  },
  {
   "cell_type": "code",
   "execution_count": 101,
   "metadata": {},
   "outputs": [
    {
     "name": "stdout",
     "output_type": "stream",
     "text": [
      "['//upload.wikimedia.org/wikipedia/commons/thumb/e/e7/Cscr-featured.svg/14px-Cscr-featured.svg.png', '//upload.wikimedia.org/wikipedia/commons/thumb/d/df/Walt_Disney_1946.JPG/220px-Walt_Disney_1946.JPG', '//upload.wikimedia.org/wikipedia/commons/thumb/a/a4/Disney_wordmark.svg/44px-Disney_wordmark.svg.png', '//upload.wikimedia.org/wikipedia/commons/thumb/7/73/Blue_pencil.svg/10px-Blue_pencil.svg.png', '//upload.wikimedia.org/wikipedia/commons/thumb/7/73/Blue_pencil.svg/10px-Blue_pencil.svg.png', '//upload.wikimedia.org/wikipedia/commons/thumb/7/73/Blue_pencil.svg/10px-Blue_pencil.svg.png', '//upload.wikimedia.org/wikipedia/commons/thumb/7/73/Blue_pencil.svg/10px-Blue_pencil.svg.png', '//upload.wikimedia.org/wikipedia/commons/thumb/7/73/Blue_pencil.svg/10px-Blue_pencil.svg.png', '//upload.wikimedia.org/wikipedia/commons/thumb/8/87/Walt_Disney_1942_signature.svg/175px-Walt_Disney_1942_signature.svg.png', '//upload.wikimedia.org/wikipedia/commons/thumb/f/fb/Elias_%26_Flora_Disney_1913.jpg/220px-Elias_%26_Flora_Disney_1913.jpg', '//upload.wikimedia.org/wikipedia/commons/thumb/c/c4/Walt_Disney_envelope_ca._1921.jpg/220px-Walt_Disney_envelope_ca._1921.jpg', '//upload.wikimedia.org/wikipedia/commons/thumb/4/4d/Newman_Laugh-O-Gram_%281921%29.webm/220px-seek%3D2-Newman_Laugh-O-Gram_%281921%29.webm.jpg', '//upload.wikimedia.org/wikipedia/commons/thumb/0/0d/Trolley_Troubles_poster.jpg/170px-Trolley_Troubles_poster.jpg', '//upload.wikimedia.org/wikipedia/commons/thumb/5/57/Walt_Disney_1935.jpg/170px-Walt_Disney_1935.jpg', '//upload.wikimedia.org/wikipedia/commons/thumb/c/cd/Walt_Disney_Snow_white_1937_trailer_screenshot_%2813%29.jpg/220px-Walt_Disney_Snow_white_1937_trailer_screenshot_%2813%29.jpg', '//upload.wikimedia.org/wikipedia/commons/thumb/1/15/Disney_drawing_goofy.jpg/170px-Disney_drawing_goofy.jpg', '//upload.wikimedia.org/wikipedia/commons/thumb/1/13/DisneySchiphol1951.jpg/220px-DisneySchiphol1951.jpg', '//upload.wikimedia.org/wikipedia/commons/thumb/8/8c/WaltDisneyplansDisneylandDec1954.jpg/220px-WaltDisneyplansDisneylandDec1954.jpg', '//upload.wikimedia.org/wikipedia/commons/thumb/c/c3/Walt_Disney_and_Dr._Wernher_von_Braun_-_GPN-2000-000060.jpg/170px-Walt_Disney_and_Dr._Wernher_von_Braun_-_GPN-2000-000060.jpg', '//upload.wikimedia.org/wikipedia/commons/thumb/e/e3/Walt_Disney_and_his_wife_departing_from_Kastrup_Airport_CPH%2C_Copenhagen_by_SAS_to_Vienna.jpg/220px-Walt_Disney_and_his_wife_departing_from_Kastrup_Airport_CPH%2C_Copenhagen_by_SAS_to_Vienna.jpg', '//upload.wikimedia.org/wikipedia/commons/thumb/1/1a/Walt_Disney_Grave.JPG/170px-Walt_Disney_Grave.JPG', '//upload.wikimedia.org/wikipedia/commons/thumb/2/2d/Roy_O._Disney_with_Company_at_Press_Conference.jpg/170px-Roy_O._Disney_with_Company_at_Press_Conference.jpg', '//upload.wikimedia.org/wikipedia/commons/thumb/a/a9/Disney_Display_Case.JPG/170px-Disney_Display_Case.JPG', '//upload.wikimedia.org/wikipedia/commons/thumb/6/6c/Disney1968.jpg/170px-Disney1968.jpg', '//upload.wikimedia.org/wikipedia/commons/thumb/1/13/Spanish_Wikiquote.SVG/12px-Spanish_Wikiquote.SVG.png', '//upload.wikimedia.org/wikipedia/commons/thumb/4/4a/Commons-logo.svg/15px-Commons-logo.svg.png', '//upload.wikimedia.org/wikipedia/commons/thumb/f/ff/Wikidata-logo.svg/20px-Wikidata-logo.svg.png', '//upload.wikimedia.org/wikipedia/commons/thumb/4/4a/Commons-logo.svg/15px-Commons-logo.svg.png', '//upload.wikimedia.org/wikipedia/commons/thumb/f/fa/Wikiquote-logo.svg/15px-Wikiquote-logo.svg.png', '//upload.wikimedia.org/wikipedia/commons/thumb/f/ff/Wikidata-logo.svg/20px-Wikidata-logo.svg.png', '//upload.wikimedia.org/wikipedia/commons/thumb/4/4a/Commons-logo.svg/15px-Commons-logo.svg.png', '//upload.wikimedia.org/wikipedia/commons/thumb/f/fa/Wikiquote-logo.svg/15px-Wikiquote-logo.svg.png', '//es.wikipedia.org/wiki/Special:CentralAutoLogin/start?type=1x1', '/static/images/footer/wikimedia-button.png', '/static/images/footer/poweredby_mediawiki_88x31.png']\n"
     ]
    }
   ],
   "source": [
    "list = []\n",
    "tags = soup.find_all(\"img\")\n",
    "for imagen in tags:\n",
    "    por = imagen.get(\"src\")\n",
    "    list.append(str(por))\n",
    "print(list)"
   ]
  },
  {
   "cell_type": "code",
   "execution_count": null,
   "metadata": {},
   "outputs": [],
   "source": []
  },
  {
   "cell_type": "markdown",
   "metadata": {},
   "source": [
    "#### Retrieve an arbitary Wikipedia page of \"Python\" and create a list of links on that page"
   ]
  },
  {
   "cell_type": "code",
   "execution_count": 22,
   "metadata": {},
   "outputs": [],
   "source": [
    "# This is the url you will scrape in this exercise\n",
    "url4 ='https://en.wikipedia.org/wiki/Python' "
   ]
  },
  {
   "cell_type": "code",
   "execution_count": 23,
   "metadata": {},
   "outputs": [],
   "source": [
    "#your code\n",
    "html4 = requests.get(url4)\n",
    "soup4 = BeautifulSoup(html4.content,\"html.parser\")"
   ]
  },
  {
   "cell_type": "code",
   "execution_count": 24,
   "metadata": {},
   "outputs": [],
   "source": [
    "tags4 = soup4.find_all('div', {'class': 'mw-parser-output'})"
   ]
  },
  {
   "cell_type": "code",
   "execution_count": 25,
   "metadata": {},
   "outputs": [
    {
     "data": {
      "text/plain": [
       "45"
      ]
     },
     "execution_count": 25,
     "metadata": {},
     "output_type": "execute_result"
    }
   ],
   "source": [
    "len(tags4[0].find_all('a'))"
   ]
  },
  {
   "cell_type": "code",
   "execution_count": 26,
   "metadata": {},
   "outputs": [
    {
     "data": {
      "text/plain": [
       "<a class=\"extiw\" href=\"https://en.wiktionary.org/wiki/Python\" title=\"wiktionary:Python\">Python</a>"
      ]
     },
     "execution_count": 26,
     "metadata": {},
     "output_type": "execute_result"
    }
   ],
   "source": [
    "tags4[0].find(\"a\")"
   ]
  },
  {
   "cell_type": "code",
   "execution_count": 27,
   "metadata": {},
   "outputs": [],
   "source": [
    "links = []\n",
    "\n",
    "for i in tags4[0].find_all('a'):\n",
    "    links.append(i.get(\"href\"))"
   ]
  },
  {
   "cell_type": "code",
   "execution_count": 28,
   "metadata": {
    "scrolled": true
   },
   "outputs": [],
   "source": [
    "links = links[11:]"
   ]
  },
  {
   "cell_type": "code",
   "execution_count": 29,
   "metadata": {},
   "outputs": [],
   "source": [
    "linkadisimos =[]\n",
    "\n",
    "for i in links:\n",
    "    linkadisimos.append('https://en.wikipedia.org/'+i)"
   ]
  },
  {
   "cell_type": "code",
   "execution_count": 30,
   "metadata": {},
   "outputs": [
    {
     "data": {
      "text/plain": [
       "['https://en.wikipedia.org//w/index.php?title=Python&action=edit&section=1',\n",
       " 'https://en.wikipedia.org//wiki/Python_(programming_language)',\n",
       " 'https://en.wikipedia.org//wiki/CMU_Common_Lisp',\n",
       " 'https://en.wikipedia.org//wiki/PERQ#PERQ_3',\n",
       " 'https://en.wikipedia.org//w/index.php?title=Python&action=edit&section=2',\n",
       " 'https://en.wikipedia.org//wiki/Python_of_Aenus',\n",
       " 'https://en.wikipedia.org//wiki/Python_(painter)',\n",
       " 'https://en.wikipedia.org//wiki/Python_of_Byzantium',\n",
       " 'https://en.wikipedia.org//wiki/Python_of_Catana',\n",
       " 'https://en.wikipedia.org//wiki/Python_Anghelo',\n",
       " 'https://en.wikipedia.org//w/index.php?title=Python&action=edit&section=3',\n",
       " 'https://en.wikipedia.org//wiki/Python_(Efteling)',\n",
       " 'https://en.wikipedia.org//wiki/Python_(Busch_Gardens_Tampa_Bay)',\n",
       " 'https://en.wikipedia.org//wiki/Python_(Coney_Island,_Cincinnati,_Ohio)',\n",
       " 'https://en.wikipedia.org//w/index.php?title=Python&action=edit&section=4',\n",
       " 'https://en.wikipedia.org//wiki/Python_(automobile_maker)',\n",
       " 'https://en.wikipedia.org//wiki/Python_(Ford_prototype)',\n",
       " 'https://en.wikipedia.org//w/index.php?title=Python&action=edit&section=5',\n",
       " 'https://en.wikipedia.org//wiki/Python_(missile)',\n",
       " 'https://en.wikipedia.org//wiki/Python_(nuclear_primary)',\n",
       " 'https://en.wikipedia.org//wiki/Colt_Python',\n",
       " 'https://en.wikipedia.org//w/index.php?title=Python&action=edit&section=6',\n",
       " 'https://en.wikipedia.org//wiki/PYTHON',\n",
       " 'https://en.wikipedia.org//wiki/Python_(film)',\n",
       " 'https://en.wikipedia.org//wiki/Python_(mythology)',\n",
       " 'https://en.wikipedia.org//wiki/Monty_Python',\n",
       " 'https://en.wikipedia.org//wiki/Python_(Monty)_Pictures',\n",
       " 'https://en.wikipedia.org//w/index.php?title=Python&action=edit&section=7',\n",
       " 'https://en.wikipedia.org//wiki/Cython',\n",
       " 'https://en.wikipedia.org//wiki/Pyton',\n",
       " 'https://en.wikipedia.org//wiki/Pithon',\n",
       " 'https://en.wikipedia.org//wiki/File:Disambig_gray.svg',\n",
       " 'https://en.wikipedia.org//wiki/Help:Disambiguation',\n",
       " 'https://en.wikipedia.org/https://en.wikipedia.org/w/index.php?title=Special:WhatLinksHere/Python&namespace=0']"
      ]
     },
     "execution_count": 30,
     "metadata": {},
     "output_type": "execute_result"
    }
   ],
   "source": [
    "linkadisimos"
   ]
  },
  {
   "cell_type": "markdown",
   "metadata": {},
   "source": [
    "#### Number of Titles that have changed in the United States Code since its last release point "
   ]
  },
  {
   "cell_type": "code",
   "execution_count": 31,
   "metadata": {},
   "outputs": [],
   "source": [
    "# This is the url you will scrape in this exercise\n",
    "url = 'http://uscode.house.gov/download/download.shtml'"
   ]
  },
  {
   "cell_type": "code",
   "execution_count": 102,
   "metadata": {},
   "outputs": [
    {
     "data": {
      "text/plain": [
       "['Title 1 - General Provisions ٭',\n",
       " 'Title 2 - The Congress',\n",
       " 'Title 3 - The President ٭',\n",
       " 'Title 4 - Flag and Seal, Seat of Government, and the States ٭',\n",
       " 'Title 5 - Government Organization and Employees ٭',\n",
       " 'Title 6 - Domestic Security',\n",
       " 'Title 7 - Agriculture',\n",
       " 'Title 8 - Aliens and Nationality',\n",
       " 'Title 9 - Arbitration ٭',\n",
       " 'Title 10 - Armed Forces ٭',\n",
       " 'Title 11 - Bankruptcy ٭',\n",
       " 'Title 12 - Banks and Banking',\n",
       " 'Title 13 - Census ٭',\n",
       " 'Title 14 - Coast Guard ٭',\n",
       " 'Title 15 - Commerce and Trade',\n",
       " 'Title 16 - Conservation',\n",
       " 'Title 17 - Copyrights ٭',\n",
       " 'Title 18 - Crimes and Criminal Procedure ٭',\n",
       " 'Title 19 - Customs Duties',\n",
       " 'Title 20 - Education',\n",
       " 'Title 21 - Food and Drugs',\n",
       " 'Title 22 - Foreign Relations and Intercourse',\n",
       " 'Title 24 - Hospitals and Asylums',\n",
       " 'Title 25 - Indians',\n",
       " 'Title 27 - Intoxicating Liquors',\n",
       " 'Title 28 - Judiciary and Judicial Procedure ٭',\n",
       " 'Title 29 - Labor',\n",
       " 'Title 30 - Mineral Lands and Mining',\n",
       " 'Title 31 - Money and Finance ٭',\n",
       " 'Title 32 - National Guard ٭',\n",
       " 'Title 33 - Navigation and Navigable Waters',\n",
       " 'Title 34 - Crime Control and Law Enforcement',\n",
       " 'Title 35 - Patents ٭',\n",
       " 'Title 36 - Patriotic and National Observances, Ceremonies, and Organizations ٭',\n",
       " 'Title 37 - Pay and Allowances of the Uniformed Services ٭',\n",
       " \"Title 38 - Veterans' Benefits ٭\",\n",
       " 'Title 39 - Postal Service ٭',\n",
       " 'Title 40 - Public Buildings, Property, and Works ٭',\n",
       " 'Title 41 - Public Contracts ٭',\n",
       " 'Title 42 - The Public Health and Welfare',\n",
       " 'Title 43 - Public Lands',\n",
       " 'Title 44 - Public Printing and Documents ٭',\n",
       " 'Title 45 - Railroads',\n",
       " 'Title 46 - Shipping ٭',\n",
       " 'Title 47 - Telecommunications',\n",
       " 'Title 48 - Territories and Insular Possessions',\n",
       " 'Title 49 - Transportation ٭',\n",
       " 'Title 50 - War and National Defense',\n",
       " 'Title 51 - National and Commercial Space Programs ٭',\n",
       " 'Title 52 - Voting and Elections',\n",
       " 'Title 53 [Reserved]',\n",
       " 'Title 54 - National Park Service and Related Programs ٭']"
      ]
     },
     "execution_count": 102,
     "metadata": {},
     "output_type": "execute_result"
    }
   ],
   "source": [
    "#your code\n",
    "# This is the url you will scrape in this exercise\n",
    "url = 'http://uscode.house.gov/download/download.shtml'\n",
    "html = requests.get(url)\n",
    "soup = BeautifulSoup(html.content,\"html.parser\")\n",
    "\n",
    "titles = soup.findAll(\"div\",{\"class\": \"usctitle\"})\n",
    "\n",
    "lista_titulos = [title.getText().strip() for title in titles]\n",
    "\n",
    "lista_titulos[2:]"
   ]
  },
  {
   "cell_type": "code",
   "execution_count": null,
   "metadata": {},
   "outputs": [],
   "source": []
  },
  {
   "cell_type": "markdown",
   "metadata": {},
   "source": [
    "####  20 latest earthquakes info (date, time, latitude, longitude and region name) by the EMSC as a pandas dataframe"
   ]
  },
  {
   "cell_type": "code",
   "execution_count": 104,
   "metadata": {},
   "outputs": [],
   "source": [
    "# This is the url you will scrape in this exercise\n",
    "url6 = 'https://www.emsc-csem.org/Earthquake/'"
   ]
  },
  {
   "cell_type": "code",
   "execution_count": 105,
   "metadata": {},
   "outputs": [],
   "source": [
    "#your code\n",
    "html6 = requests.get(url6)\n",
    "soup6 = BeautifulSoup(html6.content,\"html.parser\")\n",
    "# tags6 = soup6.find_all('div', {'class': 'mw-parser-output'})"
   ]
  },
  {
   "cell_type": "code",
   "execution_count": 106,
   "metadata": {},
   "outputs": [],
   "source": [
    "terremotero =  soup6.findAll('tr')"
   ]
  },
  {
   "cell_type": "code",
   "execution_count": 118,
   "metadata": {},
   "outputs": [
    {
     "data": {
      "text/plain": [
       "'17:13:22'"
      ]
     },
     "execution_count": 118,
     "metadata": {},
     "output_type": "execute_result"
    }
   ],
   "source": [
    "terremotero[14].findAll('td')[3].getText().split('\\xa0\\xa0\\xa0')[1][0:8]"
   ]
  },
  {
   "cell_type": "code",
   "execution_count": 37,
   "metadata": {},
   "outputs": [
    {
     "data": {
      "text/plain": [
       "'MINAHASA, SULAWESI, INDONESIA'"
      ]
     },
     "execution_count": 37,
     "metadata": {},
     "output_type": "execute_result"
    }
   ],
   "source": [
    "terremotero[14].findAll('td')[-2].getText().strip()\n"
   ]
  },
  {
   "cell_type": "code",
   "execution_count": 41,
   "metadata": {},
   "outputs": [
    {
     "data": {
      "text/plain": [
       "[<td class=\"tabev0\"></td>,\n",
       " <td class=\"tabev0\"></td>,\n",
       " <td class=\"tabev0\"></td>,\n",
       " <td class=\"tabev6\"><b><i style=\"display:none;\">earthquake</i><a href=\"/Earthquake/earthquake.php?id=1060914\">2021-11-11   16:22:13.0</a></b><i class=\"ago\" id=\"ago0\">30min ago</i></td>,\n",
       " <td class=\"tabev1\">0.56 </td>,\n",
       " <td class=\"tabev2\">N  </td>,\n",
       " <td class=\"tabev1\">121.18 </td>,\n",
       " <td class=\"tabev2\">E  </td>,\n",
       " <td class=\"tabev3\">67</td>,\n",
       " <td class=\"tabev5\" id=\"magtyp0\"> M</td>,\n",
       " <td class=\"tabev2\">3.0</td>,\n",
       " <td class=\"tb_region\" id=\"reg0\"> MINAHASA, SULAWESI, INDONESIA</td>,\n",
       " <td class=\"comment updatetimeno\" id=\"upd0\" style=\"text-align:right;\">2021-11-11 16:30</td>]"
      ]
     },
     "execution_count": 41,
     "metadata": {},
     "output_type": "execute_result"
    }
   ],
   "source": [
    "terremotero[14].findAll('td')"
   ]
  },
  {
   "cell_type": "code",
   "execution_count": 72,
   "metadata": {},
   "outputs": [
    {
     "data": {
      "text/plain": [
       "'MINAHASA, SULAWESI, INDONESIA'"
      ]
     },
     "execution_count": 72,
     "metadata": {},
     "output_type": "execute_result"
    }
   ],
   "source": [
    "terremotero[14].findAll('td')[-2].getText().strip('\\xa0')"
   ]
  },
  {
   "cell_type": "code",
   "execution_count": 53,
   "metadata": {},
   "outputs": [
    {
     "data": {
      "text/plain": [
       "'16:22:13'"
      ]
     },
     "execution_count": 53,
     "metadata": {},
     "output_type": "execute_result"
    }
   ],
   "source": [
    "terremotero[14].findAll('td')[3].getText().split('\\xa0')[-1][0:8]"
   ]
  },
  {
   "cell_type": "code",
   "execution_count": 44,
   "metadata": {},
   "outputs": [],
   "source": [
    "terres = []\n",
    "lista = range(14,34)\n",
    "for i in lista:\n",
    "    terres.append(terremotero[i].findAll('td'))\n"
   ]
  },
  {
   "cell_type": "code",
   "execution_count": 62,
   "metadata": {},
   "outputs": [
    {
     "data": {
      "text/plain": [
       "'2021-11-11'"
      ]
     },
     "execution_count": 62,
     "metadata": {},
     "output_type": "execute_result"
    }
   ],
   "source": [
    "terres[19][3].getText().split('\\xa0')[0].lstrip('earthquake')"
   ]
  },
  {
   "cell_type": "code",
   "execution_count": 73,
   "metadata": {},
   "outputs": [
    {
     "data": {
      "text/plain": [
       "[{'Date': '2021-11-11',\n",
       "  'Time': '16:22:13',\n",
       "  'latitude': '0.56',\n",
       "  'longitud': '121.18',\n",
       "  'Region': 'MINAHASA, SULAWESI, INDONESIA'},\n",
       " {'Date': '2021-11-11',\n",
       "  'Time': '16:16:54',\n",
       "  'latitude': '38.87',\n",
       "  'longitud': '31.08',\n",
       "  'Region': 'WESTERN TURKEY'},\n",
       " {'Date': '2021-11-11',\n",
       "  'Time': '15:59:14',\n",
       "  'latitude': '38.73',\n",
       "  'longitud': '27.81',\n",
       "  'Region': 'WESTERN TURKEY'},\n",
       " {'Date': '2021-11-11',\n",
       "  'Time': '15:59:06',\n",
       "  'latitude': '21.77',\n",
       "  'longitud': '68.68',\n",
       "  'Region': 'ANTOFAGASTA, CHILE'},\n",
       " {'Date': '2021-11-11',\n",
       "  'Time': '15:58:34',\n",
       "  'latitude': '12.44',\n",
       "  'longitud': '87.94',\n",
       "  'Region': 'NEAR COAST OF NICARAGUA'},\n",
       " {'Date': '2021-11-11',\n",
       "  'Time': '15:51:58',\n",
       "  'latitude': '8.91',\n",
       "  'longitud': '124.12',\n",
       "  'Region': 'KEPULAUAN ALOR, INDONESIA'},\n",
       " {'Date': '2021-11-11',\n",
       "  'Time': '15:41:14',\n",
       "  'latitude': '1.65',\n",
       "  'longitud': '127.30',\n",
       "  'Region': 'KEPULAUAN OBI, INDONESIA'},\n",
       " {'Date': '2021-11-11',\n",
       "  'Time': '15:34:57',\n",
       "  'latitude': '28.55',\n",
       "  'longitud': '17.84',\n",
       "  'Region': 'CANARY ISLANDS, SPAIN REGION'},\n",
       " {'Date': '2021-11-11',\n",
       "  'Time': '15:33:47',\n",
       "  'latitude': '2.84',\n",
       "  'longitud': '129.29',\n",
       "  'Region': 'SERAM, INDONESIA'},\n",
       " {'Date': '2021-11-11',\n",
       "  'Time': '15:23:49',\n",
       "  'latitude': '0.44',\n",
       "  'longitud': '124.19',\n",
       "  'Region': 'MINAHASA, SULAWESI, INDONESIA'},\n",
       " {'Date': '2021-11-11',\n",
       "  'Time': '15:11:40',\n",
       "  'latitude': '23.51',\n",
       "  'longitud': '66.84',\n",
       "  'Region': 'JUJUY, ARGENTINA'},\n",
       " {'Date': '2021-11-11',\n",
       "  'Time': '15:06:59',\n",
       "  'latitude': '18.51',\n",
       "  'longitud': '65.55',\n",
       "  'Region': 'PUERTO RICO REGION'},\n",
       " {'Date': '2021-11-11',\n",
       "  'Time': '15:05:05',\n",
       "  'latitude': '38.84',\n",
       "  'longitud': '122.75',\n",
       "  'Region': 'NORTHERN CALIFORNIA'},\n",
       " {'Date': '2021-11-11',\n",
       "  'Time': '14:57:17',\n",
       "  'latitude': '28.56',\n",
       "  'longitud': '17.87',\n",
       "  'Region': 'CANARY ISLANDS, SPAIN REGION'},\n",
       " {'Date': '2021-11-11',\n",
       "  'Time': '14:56:56',\n",
       "  'latitude': '31.24',\n",
       "  'longitud': '68.57',\n",
       "  'Region': 'SAN JUAN, ARGENTINA'},\n",
       " {'Date': '2021-11-11',\n",
       "  'Time': '14:56:04',\n",
       "  'latitude': '18.57',\n",
       "  'longitud': '66.09',\n",
       "  'Region': 'PUERTO RICO REGION'},\n",
       " {'Date': '2021-11-11',\n",
       "  'Time': '14:52:45',\n",
       "  'latitude': '23.99',\n",
       "  'longitud': '67.16',\n",
       "  'Region': 'SALTA, ARGENTINA'},\n",
       " {'Date': '2021-11-11',\n",
       "  'Time': '14:44:12',\n",
       "  'latitude': '38.51',\n",
       "  'longitud': '12.82',\n",
       "  'Region': 'SICILY, ITALY'},\n",
       " {'Date': '2021-11-11',\n",
       "  'Time': '14:29:28',\n",
       "  'latitude': '37.39',\n",
       "  'longitud': '35.05',\n",
       "  'Region': 'CENTRAL TURKEY'},\n",
       " {'Date': '2021-11-11',\n",
       "  'Time': '14:19:04',\n",
       "  'latitude': '19.17',\n",
       "  'longitud': '155.47',\n",
       "  'Region': 'ISLAND OF HAWAII, HAWAII'}]"
      ]
     },
     "execution_count": 73,
     "metadata": {},
     "output_type": "execute_result"
    }
   ],
   "source": [
    "shaky=[]\n",
    "for i in terres:\n",
    "\n",
    "    spot_dicc = {\"Date\" : i[3].getText().split('\\xa0')[0].lstrip('earthquake'),\n",
    "                \"Time\": i[3].getText().split('\\xa0')[-1][0:8],\n",
    "                \"latitude\": i[4].getText().strip('\\xa0'),\n",
    "                \"longitud\" :i[6].getText().strip('\\xa0'),\n",
    "                \"Region\" : i[-2].getText().strip('\\xa0')\n",
    "                }\n",
    "    shaky.append(spot_dicc)\n",
    "shaky"
   ]
  },
  {
   "cell_type": "code",
   "execution_count": 99,
   "metadata": {},
   "outputs": [
    {
     "data": {
      "text/html": [
       "<div>\n",
       "<style scoped>\n",
       "    .dataframe tbody tr th:only-of-type {\n",
       "        vertical-align: middle;\n",
       "    }\n",
       "\n",
       "    .dataframe tbody tr th {\n",
       "        vertical-align: top;\n",
       "    }\n",
       "\n",
       "    .dataframe thead th {\n",
       "        text-align: right;\n",
       "    }\n",
       "</style>\n",
       "<table border=\"1\" class=\"dataframe\">\n",
       "  <thead>\n",
       "    <tr style=\"text-align: right;\">\n",
       "      <th></th>\n",
       "      <th>Date</th>\n",
       "      <th>Time</th>\n",
       "      <th>latitude</th>\n",
       "      <th>longitud</th>\n",
       "      <th>Region</th>\n",
       "    </tr>\n",
       "  </thead>\n",
       "  <tbody>\n",
       "    <tr>\n",
       "      <th>0</th>\n",
       "      <td>2021-11-11</td>\n",
       "      <td>16:22:13</td>\n",
       "      <td>0.56</td>\n",
       "      <td>121.18</td>\n",
       "      <td>MINAHASA, SULAWESI, INDONESIA</td>\n",
       "    </tr>\n",
       "    <tr>\n",
       "      <th>1</th>\n",
       "      <td>2021-11-11</td>\n",
       "      <td>16:16:54</td>\n",
       "      <td>38.87</td>\n",
       "      <td>31.08</td>\n",
       "      <td>WESTERN TURKEY</td>\n",
       "    </tr>\n",
       "    <tr>\n",
       "      <th>2</th>\n",
       "      <td>2021-11-11</td>\n",
       "      <td>15:59:14</td>\n",
       "      <td>38.73</td>\n",
       "      <td>27.81</td>\n",
       "      <td>WESTERN TURKEY</td>\n",
       "    </tr>\n",
       "    <tr>\n",
       "      <th>3</th>\n",
       "      <td>2021-11-11</td>\n",
       "      <td>15:59:06</td>\n",
       "      <td>21.77</td>\n",
       "      <td>68.68</td>\n",
       "      <td>ANTOFAGASTA, CHILE</td>\n",
       "    </tr>\n",
       "    <tr>\n",
       "      <th>4</th>\n",
       "      <td>2021-11-11</td>\n",
       "      <td>15:58:34</td>\n",
       "      <td>12.44</td>\n",
       "      <td>87.94</td>\n",
       "      <td>NEAR COAST OF NICARAGUA</td>\n",
       "    </tr>\n",
       "    <tr>\n",
       "      <th>5</th>\n",
       "      <td>2021-11-11</td>\n",
       "      <td>15:51:58</td>\n",
       "      <td>8.91</td>\n",
       "      <td>124.12</td>\n",
       "      <td>KEPULAUAN ALOR, INDONESIA</td>\n",
       "    </tr>\n",
       "    <tr>\n",
       "      <th>6</th>\n",
       "      <td>2021-11-11</td>\n",
       "      <td>15:41:14</td>\n",
       "      <td>1.65</td>\n",
       "      <td>127.30</td>\n",
       "      <td>KEPULAUAN OBI, INDONESIA</td>\n",
       "    </tr>\n",
       "    <tr>\n",
       "      <th>7</th>\n",
       "      <td>2021-11-11</td>\n",
       "      <td>15:34:57</td>\n",
       "      <td>28.55</td>\n",
       "      <td>17.84</td>\n",
       "      <td>CANARY ISLANDS, SPAIN REGION</td>\n",
       "    </tr>\n",
       "    <tr>\n",
       "      <th>8</th>\n",
       "      <td>2021-11-11</td>\n",
       "      <td>15:33:47</td>\n",
       "      <td>2.84</td>\n",
       "      <td>129.29</td>\n",
       "      <td>SERAM, INDONESIA</td>\n",
       "    </tr>\n",
       "    <tr>\n",
       "      <th>9</th>\n",
       "      <td>2021-11-11</td>\n",
       "      <td>15:23:49</td>\n",
       "      <td>0.44</td>\n",
       "      <td>124.19</td>\n",
       "      <td>MINAHASA, SULAWESI, INDONESIA</td>\n",
       "    </tr>\n",
       "    <tr>\n",
       "      <th>10</th>\n",
       "      <td>2021-11-11</td>\n",
       "      <td>15:11:40</td>\n",
       "      <td>23.51</td>\n",
       "      <td>66.84</td>\n",
       "      <td>JUJUY, ARGENTINA</td>\n",
       "    </tr>\n",
       "    <tr>\n",
       "      <th>11</th>\n",
       "      <td>2021-11-11</td>\n",
       "      <td>15:06:59</td>\n",
       "      <td>18.51</td>\n",
       "      <td>65.55</td>\n",
       "      <td>PUERTO RICO REGION</td>\n",
       "    </tr>\n",
       "    <tr>\n",
       "      <th>12</th>\n",
       "      <td>2021-11-11</td>\n",
       "      <td>15:05:05</td>\n",
       "      <td>38.84</td>\n",
       "      <td>122.75</td>\n",
       "      <td>NORTHERN CALIFORNIA</td>\n",
       "    </tr>\n",
       "    <tr>\n",
       "      <th>13</th>\n",
       "      <td>2021-11-11</td>\n",
       "      <td>14:57:17</td>\n",
       "      <td>28.56</td>\n",
       "      <td>17.87</td>\n",
       "      <td>CANARY ISLANDS, SPAIN REGION</td>\n",
       "    </tr>\n",
       "    <tr>\n",
       "      <th>14</th>\n",
       "      <td>2021-11-11</td>\n",
       "      <td>14:56:56</td>\n",
       "      <td>31.24</td>\n",
       "      <td>68.57</td>\n",
       "      <td>SAN JUAN, ARGENTINA</td>\n",
       "    </tr>\n",
       "    <tr>\n",
       "      <th>15</th>\n",
       "      <td>2021-11-11</td>\n",
       "      <td>14:56:04</td>\n",
       "      <td>18.57</td>\n",
       "      <td>66.09</td>\n",
       "      <td>PUERTO RICO REGION</td>\n",
       "    </tr>\n",
       "    <tr>\n",
       "      <th>16</th>\n",
       "      <td>2021-11-11</td>\n",
       "      <td>14:52:45</td>\n",
       "      <td>23.99</td>\n",
       "      <td>67.16</td>\n",
       "      <td>SALTA, ARGENTINA</td>\n",
       "    </tr>\n",
       "    <tr>\n",
       "      <th>17</th>\n",
       "      <td>2021-11-11</td>\n",
       "      <td>14:44:12</td>\n",
       "      <td>38.51</td>\n",
       "      <td>12.82</td>\n",
       "      <td>SICILY, ITALY</td>\n",
       "    </tr>\n",
       "    <tr>\n",
       "      <th>18</th>\n",
       "      <td>2021-11-11</td>\n",
       "      <td>14:29:28</td>\n",
       "      <td>37.39</td>\n",
       "      <td>35.05</td>\n",
       "      <td>CENTRAL TURKEY</td>\n",
       "    </tr>\n",
       "    <tr>\n",
       "      <th>19</th>\n",
       "      <td>2021-11-11</td>\n",
       "      <td>14:19:04</td>\n",
       "      <td>19.17</td>\n",
       "      <td>155.47</td>\n",
       "      <td>ISLAND OF HAWAII, HAWAII</td>\n",
       "    </tr>\n",
       "  </tbody>\n",
       "</table>\n",
       "</div>"
      ],
      "text/plain": [
       "          Date      Time latitude longitud                         Region\n",
       "0   2021-11-11  16:22:13     0.56   121.18  MINAHASA, SULAWESI, INDONESIA\n",
       "1   2021-11-11  16:16:54    38.87    31.08                 WESTERN TURKEY\n",
       "2   2021-11-11  15:59:14    38.73    27.81                 WESTERN TURKEY\n",
       "3   2021-11-11  15:59:06    21.77    68.68             ANTOFAGASTA, CHILE\n",
       "4   2021-11-11  15:58:34    12.44    87.94        NEAR COAST OF NICARAGUA\n",
       "5   2021-11-11  15:51:58     8.91   124.12      KEPULAUAN ALOR, INDONESIA\n",
       "6   2021-11-11  15:41:14     1.65   127.30       KEPULAUAN OBI, INDONESIA\n",
       "7   2021-11-11  15:34:57    28.55    17.84   CANARY ISLANDS, SPAIN REGION\n",
       "8   2021-11-11  15:33:47     2.84   129.29               SERAM, INDONESIA\n",
       "9   2021-11-11  15:23:49     0.44   124.19  MINAHASA, SULAWESI, INDONESIA\n",
       "10  2021-11-11  15:11:40    23.51    66.84               JUJUY, ARGENTINA\n",
       "11  2021-11-11  15:06:59    18.51    65.55             PUERTO RICO REGION\n",
       "12  2021-11-11  15:05:05    38.84   122.75            NORTHERN CALIFORNIA\n",
       "13  2021-11-11  14:57:17    28.56    17.87   CANARY ISLANDS, SPAIN REGION\n",
       "14  2021-11-11  14:56:56    31.24    68.57            SAN JUAN, ARGENTINA\n",
       "15  2021-11-11  14:56:04    18.57    66.09             PUERTO RICO REGION\n",
       "16  2021-11-11  14:52:45    23.99    67.16               SALTA, ARGENTINA\n",
       "17  2021-11-11  14:44:12    38.51    12.82                  SICILY, ITALY\n",
       "18  2021-11-11  14:29:28    37.39    35.05                 CENTRAL TURKEY\n",
       "19  2021-11-11  14:19:04    19.17   155.47       ISLAND OF HAWAII, HAWAII"
      ]
     },
     "execution_count": 99,
     "metadata": {},
     "output_type": "execute_result"
    }
   ],
   "source": [
    "solusion = pd.DataFrame(shaky)\n",
    "solusion"
   ]
  },
  {
   "cell_type": "markdown",
   "metadata": {},
   "source": [
    "#### Display the date, days, title, city, country of next 25 hackathon events as a Pandas dataframe table"
   ]
  },
  {
   "cell_type": "code",
   "execution_count": null,
   "metadata": {},
   "outputs": [],
   "source": [
    "# This is the url you will scrape in this exercise\n",
    "url ='https://hackevents.co/hackathons'\n",
    "url_hack = 'https://hackevents.co/search/anything/anywhere/anytime' "
   ]
  },
  {
   "cell_type": "markdown",
   "metadata": {},
   "source": [
    "# Este nos han dicho que no hay que hacerlo "
   ]
  },
  {
   "cell_type": "code",
   "execution_count": null,
   "metadata": {},
   "outputs": [],
   "source": []
  },
  {
   "cell_type": "markdown",
   "metadata": {},
   "source": [
    "#### List all language names and number of related articles in the order they appear in wikipedia.org"
   ]
  },
  {
   "cell_type": "code",
   "execution_count": null,
   "metadata": {},
   "outputs": [],
   "source": [
    "# This is the url you will scrape in this exercise\n",
    "url = 'https://www.wikipedia.org/'"
   ]
  },
  {
   "cell_type": "code",
   "execution_count": 86,
   "id": "459a296c",
   "metadata": {},
   "outputs": [],
   "source": [
    "import requests\n",
    "from bs4 import BeautifulSoup\n",
    "import pandas as pd\n",
    "# from pprint import pprint\n",
    "# import urllib.request\n",
    "from urllib.request import urlopen\n",
    "# import random\n",
    "import re\n",
    "import lxml.html as lh\n",
    "# import scrapy"
   ]
  },
  {
   "cell_type": "code",
   "execution_count": 87,
   "id": "4be942c1",
   "metadata": {},
   "outputs": [],
   "source": [
    "# It's much better choosing this link, as the information available at the main page is drunk from this one  \n",
    "url = 'https://es.wikipedia.org/wiki/Anexo:Wikipedias'"
   ]
  },
  {
   "cell_type": "code",
   "execution_count": 88,
   "id": "acb4ec2e",
   "metadata": {},
   "outputs": [],
   "source": [
    "#Create a handle, page, to handle the contents of the website\n",
    "page = requests.get(url)\n",
    "#Store the contents of the website under doc\n",
    "doc = lh.fromstring(page.content)\n",
    "#Parse data that are stored between <tr>..</tr> of HTML\n",
    "tr_elements = doc.xpath('//tr')"
   ]
  },
  {
   "cell_type": "code",
   "execution_count": 89,
   "id": "1e68483d",
   "metadata": {},
   "outputs": [
    {
     "data": {
      "text/plain": [
       "[1, 12, 12, 12, 12]"
      ]
     },
     "execution_count": 89,
     "metadata": {},
     "output_type": "execute_result"
    }
   ],
   "source": [
    "#Check the length of the first 5 rows\n",
    "[len(T) for T in tr_elements[:5]]"
   ]
  },
  {
   "cell_type": "code",
   "execution_count": 90,
   "id": "cbb8b8d7",
   "metadata": {},
   "outputs": [
    {
     "name": "stdout",
     "output_type": "stream",
     "text": [
      "1:\"\"\n",
      "2:\"Idioma\"\n",
      "3:\"Idioma (local)\"\n",
      "4:\"Cód.[2]​\n",
      "\"\n",
      "5:\"P. de cont.[1]​\"\n",
      "6:\"Páginas\"\n",
      "7:\"Ediciones\"\n",
      "8:\"Admins.\"\n",
      "9:\"Usuarios\"\n",
      "10:\"U. activos[3]​\"\n",
      "11:\"Ficheros\"\n",
      "12:\"Prof.[4]​\n",
      "\"\n"
     ]
    }
   ],
   "source": [
    "tr_elements = doc.xpath('//tr')\n",
    "#Create empty list\n",
    "col=[]\n",
    "i=0\n",
    "#For each row, store each first element (header) and an empty list\n",
    "for t in tr_elements[1]:\n",
    "    i+=1\n",
    "    name=t.text_content()\n",
    "    print('%d:\"%s\"'%(i,name))\n",
    "    col.append((name,[]))"
   ]
  },
  {
   "cell_type": "code",
   "execution_count": 91,
   "id": "1839e77b",
   "metadata": {},
   "outputs": [],
   "source": [
    "#Since out first row is the header, data is stored on the second row onwards\n",
    "for j in range(1,len(tr_elements)):\n",
    "    #T is our j'th row\n",
    "    T=tr_elements[j]\n",
    "    \n",
    "    #If row is not of size 12, the //tr data is not from our table \n",
    "    if len(T)!=12:\n",
    "        break\n",
    "    \n",
    "    #i is the index of our column\n",
    "    i=0\n",
    "    \n",
    "    #Iterate through each element of the row\n",
    "    for t in T.iterchildren():\n",
    "        data=t.text_content() \n",
    "        #Check if row is empty\n",
    "        if i>0:\n",
    "        #Convert any numerical value to integers\n",
    "            try:\n",
    "                data=int(data)\n",
    "            except:\n",
    "                pass\n",
    "        #Append the data to the empty list of the i'th column\n",
    "        col[i][1].append(data)\n",
    "        #Increment i for the next column\n",
    "        i+=1"
   ]
  },
  {
   "cell_type": "code",
   "execution_count": 92,
   "id": "1a277f11",
   "metadata": {},
   "outputs": [
    {
     "data": {
      "text/plain": [
       "[327, 327, 327, 327, 327, 327, 327, 327, 327, 327, 327, 327]"
      ]
     },
     "execution_count": 92,
     "metadata": {},
     "output_type": "execute_result"
    }
   ],
   "source": [
    "[len(C) for (title,C) in col]"
   ]
  },
  {
   "cell_type": "code",
   "execution_count": 93,
   "id": "1400417e",
   "metadata": {},
   "outputs": [],
   "source": [
    "Dict={title:column for (title,column) in col}\n",
    "df=pd.DataFrame(Dict)"
   ]
  },
  {
   "cell_type": "code",
   "execution_count": 94,
   "id": "599cc1a8",
   "metadata": {},
   "outputs": [],
   "source": [
    "df = df.drop(columns=['Páginas','','Idioma (local)', 'Cód.[2]​\\n', 'Ediciones', 'Admins.','Usuarios','U. activos[3]​','Ficheros','Prof.[4]​\\n'])"
   ]
  },
  {
   "cell_type": "code",
   "execution_count": 95,
   "id": "03ab4764",
   "metadata": {},
   "outputs": [],
   "source": [
    "df = df.drop(df.index[0])"
   ]
  },
  {
   "cell_type": "code",
   "execution_count": 96,
   "id": "131af22c",
   "metadata": {},
   "outputs": [],
   "source": [
    "df = df.replace(r'\\n',' ', regex=True)"
   ]
  },
  {
   "cell_type": "code",
   "execution_count": 97,
   "id": "79f19674",
   "metadata": {},
   "outputs": [
    {
     "data": {
      "text/html": [
       "<div>\n",
       "<style scoped>\n",
       "    .dataframe tbody tr th:only-of-type {\n",
       "        vertical-align: middle;\n",
       "    }\n",
       "\n",
       "    .dataframe tbody tr th {\n",
       "        vertical-align: top;\n",
       "    }\n",
       "\n",
       "    .dataframe thead th {\n",
       "        text-align: right;\n",
       "    }\n",
       "</style>\n",
       "<table border=\"1\" class=\"dataframe\">\n",
       "  <thead>\n",
       "    <tr style=\"text-align: right;\">\n",
       "      <th></th>\n",
       "      <th>Idioma</th>\n",
       "      <th>P. de cont.[1]​</th>\n",
       "    </tr>\n",
       "  </thead>\n",
       "  <tbody>\n",
       "    <tr>\n",
       "      <th>1</th>\n",
       "      <td>Inglés</td>\n",
       "      <td>6 407 118</td>\n",
       "    </tr>\n",
       "    <tr>\n",
       "      <th>2</th>\n",
       "      <td>Cebuano</td>\n",
       "      <td>6 058 684</td>\n",
       "    </tr>\n",
       "    <tr>\n",
       "      <th>3</th>\n",
       "      <td>Sueco</td>\n",
       "      <td>2 892 399</td>\n",
       "    </tr>\n",
       "    <tr>\n",
       "      <th>4</th>\n",
       "      <td>Alemán</td>\n",
       "      <td>2 631 161</td>\n",
       "    </tr>\n",
       "    <tr>\n",
       "      <th>5</th>\n",
       "      <td>Francés</td>\n",
       "      <td>2 373 235</td>\n",
       "    </tr>\n",
       "    <tr>\n",
       "      <th>6</th>\n",
       "      <td>Neerlandés</td>\n",
       "      <td>2 071 013</td>\n",
       "    </tr>\n",
       "    <tr>\n",
       "      <th>7</th>\n",
       "      <td>Ruso</td>\n",
       "      <td>1 769 272</td>\n",
       "    </tr>\n",
       "    <tr>\n",
       "      <th>8</th>\n",
       "      <td>Español</td>\n",
       "      <td>1 729 941</td>\n",
       "    </tr>\n",
       "    <tr>\n",
       "      <th>9</th>\n",
       "      <td>Italiano</td>\n",
       "      <td>1 725 440</td>\n",
       "    </tr>\n",
       "    <tr>\n",
       "      <th>10</th>\n",
       "      <td>Polaco</td>\n",
       "      <td>1 496 026</td>\n",
       "    </tr>\n",
       "  </tbody>\n",
       "</table>\n",
       "</div>"
      ],
      "text/plain": [
       "         Idioma P. de cont.[1]​\n",
       "1       Inglés       6 407 118 \n",
       "2      Cebuano       6 058 684 \n",
       "3        Sueco       2 892 399 \n",
       "4       Alemán       2 631 161 \n",
       "5      Francés       2 373 235 \n",
       "6   Neerlandés       2 071 013 \n",
       "7         Ruso       1 769 272 \n",
       "8      Español       1 729 941 \n",
       "9     Italiano       1 725 440 \n",
       "10      Polaco       1 496 026 "
      ]
     },
     "execution_count": 97,
     "metadata": {},
     "output_type": "execute_result"
    }
   ],
   "source": [
    "df.head(10)"
   ]
  },
  {
   "cell_type": "code",
   "execution_count": 83,
   "metadata": {},
   "outputs": [],
   "source": [
    "#your code\n"
   ]
  },
  {
   "cell_type": "markdown",
   "metadata": {},
   "source": [
    "#### A list with the different kind of datasets available in data.gov.uk "
   ]
  },
  {
   "cell_type": "code",
   "execution_count": 75,
   "metadata": {},
   "outputs": [],
   "source": [
    "#your code \n",
    "url = 'https://data.gov.uk/'"
   ]
  },
  {
   "cell_type": "code",
   "execution_count": 76,
   "id": "04abd969",
   "metadata": {},
   "outputs": [],
   "source": [
    "html = requests.get(url)\n",
    "soup = BeautifulSoup(html.content,\"html.parser\")"
   ]
  },
  {
   "cell_type": "code",
   "execution_count": 77,
   "id": "2d7cdae7",
   "metadata": {},
   "outputs": [],
   "source": [
    "tags = soup.find_all(\"a\", {\"class\": \"govuk-link\"})"
   ]
  },
  {
   "cell_type": "code",
   "execution_count": 78,
   "id": "84988a33",
   "metadata": {},
   "outputs": [
    {
     "data": {
      "text/plain": [
       "[<a class=\"govuk-link\" href=\"/cookies\">cookies to collect information</a>,\n",
       " <a class=\"govuk-link\" href=\"/cookies\">View cookies</a>,\n",
       " <a class=\"govuk-link\" data-module=\"gem-track-click\" data-track-action=\"Cookie banner settings clicked from confirmation\" data-track-category=\"cookieBanner\" href=\"/cookies\">change your cookie settings</a>,\n",
       " <a class=\"govuk-link\" href=\"http://www.smartsurvey.co.uk/s/3SEXD/\">feedback</a>,\n",
       " <a class=\"govuk-link\" href=\"/search?filters%5Btopic%5D=Business+and+economy\">Business and economy</a>,\n",
       " <a class=\"govuk-link\" href=\"/search?filters%5Btopic%5D=Crime+and+justice\">Crime and justice</a>,\n",
       " <a class=\"govuk-link\" href=\"/search?filters%5Btopic%5D=Defence\">Defence</a>,\n",
       " <a class=\"govuk-link\" href=\"/search?filters%5Btopic%5D=Education\">Education</a>,\n",
       " <a class=\"govuk-link\" href=\"/search?filters%5Btopic%5D=Environment\">Environment</a>,\n",
       " <a class=\"govuk-link\" href=\"/search?filters%5Btopic%5D=Government\">Government</a>,\n",
       " <a class=\"govuk-link\" href=\"/search?filters%5Btopic%5D=Government+spending\">Government spending</a>,\n",
       " <a class=\"govuk-link\" href=\"/search?filters%5Btopic%5D=Health\">Health</a>,\n",
       " <a class=\"govuk-link\" href=\"/search?filters%5Btopic%5D=Mapping\">Mapping</a>,\n",
       " <a class=\"govuk-link\" href=\"/search?filters%5Btopic%5D=Society\">Society</a>,\n",
       " <a class=\"govuk-link\" href=\"/search?filters%5Btopic%5D=Towns+and+cities\">Towns and cities</a>,\n",
       " <a class=\"govuk-link\" href=\"/search?filters%5Btopic%5D=Transport\">Transport</a>,\n",
       " <a class=\"govuk-link\" href=\"/search?filters%5Btopic%5D=Digital+service+performance\">Digital service performance</a>,\n",
       " <a class=\"govuk-link\" href=\"/search?filters%5Btopic%5D=Government+reference+data\">Government reference data</a>]"
      ]
     },
     "execution_count": 78,
     "metadata": {},
     "output_type": "execute_result"
    }
   ],
   "source": [
    "tags"
   ]
  },
  {
   "cell_type": "code",
   "execution_count": 79,
   "id": "6101eb88",
   "metadata": {},
   "outputs": [],
   "source": [
    "list1 = []\n",
    "for tag in tags:\n",
    "    a = tag.getText()\n",
    "    list1.append(a)"
   ]
  },
  {
   "cell_type": "code",
   "execution_count": 80,
   "id": "741713a4",
   "metadata": {},
   "outputs": [
    {
     "data": {
      "text/plain": [
       "['cookies to collect information',\n",
       " 'View cookies',\n",
       " 'change your cookie settings',\n",
       " 'feedback',\n",
       " 'Business and economy',\n",
       " 'Crime and justice',\n",
       " 'Defence',\n",
       " 'Education',\n",
       " 'Environment',\n",
       " 'Government',\n",
       " 'Government spending',\n",
       " 'Health',\n",
       " 'Mapping',\n",
       " 'Society',\n",
       " 'Towns and cities',\n",
       " 'Transport',\n",
       " 'Digital service performance',\n",
       " 'Government reference data']"
      ]
     },
     "execution_count": 80,
     "metadata": {},
     "output_type": "execute_result"
    }
   ],
   "source": [
    "list1"
   ]
  },
  {
   "cell_type": "code",
   "execution_count": 81,
   "id": "93267ed2",
   "metadata": {},
   "outputs": [],
   "source": [
    "list2 = list1[5:]"
   ]
  },
  {
   "cell_type": "code",
   "execution_count": 82,
   "id": "68ab98e7",
   "metadata": {
    "scrolled": true
   },
   "outputs": [
    {
     "data": {
      "text/plain": [
       "['Crime and justice',\n",
       " 'Defence',\n",
       " 'Education',\n",
       " 'Environment',\n",
       " 'Government',\n",
       " 'Government spending',\n",
       " 'Health',\n",
       " 'Mapping',\n",
       " 'Society',\n",
       " 'Towns and cities',\n",
       " 'Transport',\n",
       " 'Digital service performance',\n",
       " 'Government reference data']"
      ]
     },
     "execution_count": 82,
     "metadata": {},
     "output_type": "execute_result"
    }
   ],
   "source": [
    "list2"
   ]
  },
  {
   "cell_type": "code",
   "execution_count": null,
   "metadata": {},
   "outputs": [],
   "source": []
  },
  {
   "cell_type": "markdown",
   "metadata": {},
   "source": [
    "#### Top 10 languages by number of native speakers stored in a Pandas Dataframe"
   ]
  },
  {
   "cell_type": "code",
   "execution_count": null,
   "metadata": {},
   "outputs": [],
   "source": [
    "import lxml.html as lh"
   ]
  },
  {
   "cell_type": "code",
   "execution_count": null,
   "metadata": {},
   "outputs": [],
   "source": [
    "# This is the url you will scrape in this exercise\n",
    "url = 'https://en.wikipedia.org/wiki/List_of_languages_by_number_of_native_speakers'"
   ]
  },
  {
   "cell_type": "code",
   "execution_count": null,
   "metadata": {},
   "outputs": [],
   "source": [
    "#your code\n",
    "url='https://en.wikipedia.org/wiki/List_of_languages_by_number_of_native_speakers'"
   ]
  },
  {
   "cell_type": "code",
   "execution_count": null,
   "metadata": {},
   "outputs": [],
   "source": [
    "#Create a handle, page, to handle the contents of the website\n",
    "page = requests.get(url)\n",
    "#Store the contents of the website under doc\n",
    "doc = lh.fromstring(page.content)\n",
    "#Parse data that are stored between <tr>..</tr> of HTML\n",
    "tr_elements = doc.xpath('//tr')"
   ]
  },
  {
   "cell_type": "code",
   "execution_count": null,
   "metadata": {},
   "outputs": [],
   "source": [
    "#Check the length of the first 12 rows\n",
    "[len(T) for T in tr_elements[:12]]"
   ]
  },
  {
   "cell_type": "code",
   "execution_count": null,
   "metadata": {},
   "outputs": [],
   "source": [
    "tr_elements = doc.xpath('//tr')\n",
    "#Create empty list\n",
    "col=[]\n",
    "i=0\n",
    "#For each row, store each first element (header) and an empty list\n",
    "for t in tr_elements[1]:\n",
    "    i+=1\n",
    "    name=t.text_content()\n",
    "    print('%d:\"%s\"'%(i,name))\n",
    "    col.append((name,[]))"
   ]
  },
  {
   "cell_type": "code",
   "execution_count": null,
   "metadata": {},
   "outputs": [],
   "source": [
    "#Since out first row is the header, data is stored on the second row onwards\n",
    "for j in range(1,len(tr_elements)):\n",
    "    #T is our j'th row\n",
    "    T=tr_elements[j]\n",
    "    \n",
    "    #If row is not of size 10, the //tr data is not from our table \n",
    "    if len(T)!=6:\n",
    "        break\n",
    "    \n",
    "    #i is the index of our column\n",
    "    i=0\n",
    "    \n",
    "    #Iterate through each element of the row\n",
    "    for t in T.iterchildren():\n",
    "        data=t.text_content() \n",
    "        #Check if row is empty\n",
    "        if i>0:\n",
    "        #Convert any numerical value to integers\n",
    "            try:\n",
    "                data=int(data)\n",
    "            except:\n",
    "                pass\n",
    "        #Append the data to the empty list of the i'th column\n",
    "        col[i][1].append(data)\n",
    "        #Increment i for the next column\n",
    "        i+=1"
   ]
  },
  {
   "cell_type": "code",
   "execution_count": null,
   "metadata": {},
   "outputs": [],
   "source": [
    "[len(C) for (title,C) in col]"
   ]
  },
  {
   "cell_type": "code",
   "execution_count": null,
   "metadata": {},
   "outputs": [],
   "source": [
    "Dict={title:column for (title,column) in col}\n",
    "df=pd.DataFrame(Dict)"
   ]
  },
  {
   "cell_type": "code",
   "execution_count": null,
   "metadata": {},
   "outputs": [],
   "source": [
    "df = df.drop(columns=['Rank\\n', 'Percentageof world pop.(March 2019)[8]\\n', 'Language family\\n', 'Branch\\n'])"
   ]
  },
  {
   "cell_type": "code",
   "execution_count": null,
   "metadata": {},
   "outputs": [],
   "source": [
    "df = df.drop(df.index[0])"
   ]
  },
  {
   "cell_type": "code",
   "execution_count": null,
   "metadata": {},
   "outputs": [],
   "source": [
    "df.reset_index(inplace=True,drop=True)"
   ]
  },
  {
   "cell_type": "code",
   "execution_count": null,
   "metadata": {},
   "outputs": [],
   "source": [
    "df1 = df.head(10)"
   ]
  },
  {
   "cell_type": "code",
   "execution_count": null,
   "metadata": {},
   "outputs": [],
   "source": [
    "df1"
   ]
  },
  {
   "cell_type": "markdown",
   "metadata": {},
   "source": [
    "### BONUS QUESTIONS"
   ]
  },
  {
   "cell_type": "markdown",
   "metadata": {},
   "source": [
    "#### IMDB's Top 250 data (movie name, Initial release, director name and stars) as a pandas dataframe"
   ]
  },
  {
   "cell_type": "code",
   "execution_count": null,
   "metadata": {},
   "outputs": [],
   "source": [
    "# This is the url you will scrape in this exercise \n",
    "url = 'https://www.imdb.com/chart/top'"
   ]
  },
  {
   "cell_type": "code",
   "execution_count": 120,
   "metadata": {},
   "outputs": [],
   "source": [
    "url = 'https://www.imdb.com/chart/top'"
   ]
  },
  {
   "cell_type": "code",
   "execution_count": 121,
   "metadata": {},
   "outputs": [],
   "source": [
    "html = requests.get(url)\n",
    "soup = BeautifulSoup(html.content,\"html.parser\")"
   ]
  },
  {
   "cell_type": "code",
   "execution_count": 122,
   "metadata": {},
   "outputs": [],
   "source": [
    "tags_ = soup.find_all(\"td\", {\"class\": \"titleColumn\"})"
   ]
  },
  {
   "cell_type": "code",
   "execution_count": 123,
   "metadata": {},
   "outputs": [],
   "source": [
    "# tags_"
   ]
  },
  {
   "cell_type": "code",
   "execution_count": 124,
   "metadata": {},
   "outputs": [],
   "source": [
    "lista_enlaces = [f\"https://www.imdb.com/{elemento.find('a').get('href')}\" for elemento in tags_]"
   ]
  },
  {
   "cell_type": "code",
   "execution_count": 125,
   "metadata": {},
   "outputs": [],
   "source": [
    "#lista_enlaces"
   ]
  },
  {
   "cell_type": "code",
   "execution_count": 133,
   "metadata": {},
   "outputs": [
    {
     "data": {
      "text/html": [
       "<div>\n",
       "<style scoped>\n",
       "    .dataframe tbody tr th:only-of-type {\n",
       "        vertical-align: middle;\n",
       "    }\n",
       "\n",
       "    .dataframe tbody tr th {\n",
       "        vertical-align: top;\n",
       "    }\n",
       "\n",
       "    .dataframe thead th {\n",
       "        text-align: right;\n",
       "    }\n",
       "</style>\n",
       "<table border=\"1\" class=\"dataframe\">\n",
       "  <thead>\n",
       "    <tr style=\"text-align: right;\">\n",
       "      <th></th>\n",
       "      <th>Nombre_peliculas</th>\n",
       "      <th>Año_estreno</th>\n",
       "      <th>Puntuación</th>\n",
       "    </tr>\n",
       "  </thead>\n",
       "  <tbody>\n",
       "    <tr>\n",
       "      <th>0</th>\n",
       "      <td>Cadena perpetua</td>\n",
       "      <td>(1994)</td>\n",
       "      <td>9.2</td>\n",
       "    </tr>\n",
       "    <tr>\n",
       "      <th>1</th>\n",
       "      <td>El padrino</td>\n",
       "      <td>(1972)</td>\n",
       "      <td>9.1</td>\n",
       "    </tr>\n",
       "    <tr>\n",
       "      <th>2</th>\n",
       "      <td>El padrino: Parte II</td>\n",
       "      <td>(1974)</td>\n",
       "      <td>9.0</td>\n",
       "    </tr>\n",
       "    <tr>\n",
       "      <th>3</th>\n",
       "      <td>El caballero oscuro</td>\n",
       "      <td>(2008)</td>\n",
       "      <td>9.0</td>\n",
       "    </tr>\n",
       "    <tr>\n",
       "      <th>4</th>\n",
       "      <td>12 hombres sin piedad</td>\n",
       "      <td>(1957)</td>\n",
       "      <td>8.9</td>\n",
       "    </tr>\n",
       "    <tr>\n",
       "      <th>...</th>\n",
       "      <td>...</td>\n",
       "      <td>...</td>\n",
       "      <td>...</td>\n",
       "    </tr>\n",
       "    <tr>\n",
       "      <th>245</th>\n",
       "      <td>La princesa prometida</td>\n",
       "      <td>(1987)</td>\n",
       "      <td>8.0</td>\n",
       "    </tr>\n",
       "    <tr>\n",
       "      <th>246</th>\n",
       "      <td>Las noches de Cabiria</td>\n",
       "      <td>(1957)</td>\n",
       "      <td>8.0</td>\n",
       "    </tr>\n",
       "    <tr>\n",
       "      <th>247</th>\n",
       "      <td>Paris, Texas</td>\n",
       "      <td>(1984)</td>\n",
       "      <td>8.0</td>\n",
       "    </tr>\n",
       "    <tr>\n",
       "      <th>248</th>\n",
       "      <td>Tres colores: Rojo</td>\n",
       "      <td>(1994)</td>\n",
       "      <td>8.0</td>\n",
       "    </tr>\n",
       "    <tr>\n",
       "      <th>249</th>\n",
       "      <td>Sardar Udham</td>\n",
       "      <td>(2021)</td>\n",
       "      <td>8.0</td>\n",
       "    </tr>\n",
       "  </tbody>\n",
       "</table>\n",
       "<p>250 rows × 3 columns</p>\n",
       "</div>"
      ],
      "text/plain": [
       "          Nombre_peliculas Año_estreno Puntuación\n",
       "0          Cadena perpetua      (1994)        9.2\n",
       "1               El padrino      (1972)        9.1\n",
       "2     El padrino: Parte II      (1974)        9.0\n",
       "3      El caballero oscuro      (2008)        9.0\n",
       "4    12 hombres sin piedad      (1957)        8.9\n",
       "..                     ...         ...        ...\n",
       "245  La princesa prometida      (1987)        8.0\n",
       "246  Las noches de Cabiria      (1957)        8.0\n",
       "247           Paris, Texas      (1984)        8.0\n",
       "248     Tres colores: Rojo      (1994)        8.0\n",
       "249           Sardar Udham      (2021)        8.0\n",
       "\n",
       "[250 rows x 3 columns]"
      ]
     },
     "execution_count": 133,
     "metadata": {},
     "output_type": "execute_result"
    }
   ],
   "source": [
    "moviename = soup.findAll(\"td\",{\"class\": \"titleColumn\"})\n",
    "lista_moviename = [movie.getText().strip() for movie in moviename]\n",
    "lista = []\n",
    "\n",
    "i = 0\n",
    "for movie in lista_moviename:\n",
    "    a = lista_moviename[i].split(\"\\n\")[1].strip()\n",
    "    i += 1\n",
    "    lista.append(a)\n",
    "    \n",
    "df = pd.DataFrame(lista)\n",
    "\n",
    "diccio_nuevas = {0: \"Nombre_peliculas\"}\n",
    "df.rename(columns = diccio_nuevas, inplace=True)\n",
    "\n",
    "fex = soup.find_all(\"span\", {\"class\": \"secondaryInfo\"})\n",
    "\n",
    "list_fecha = [fecha.getText().strip() for fecha in fex]\n",
    "df1 = pd.DataFrame(list_fecha)\n",
    "\n",
    "diccio_nuevas1 = {0: \"Año_estreno\"}\n",
    "df1.rename(columns = diccio_nuevas1, inplace=True)\n",
    "\n",
    "concatenado = pd.concat([df,df1], axis=1)\n",
    "\n",
    "estrellas = soup.find_all(\"td\", {\"class\": \"ratingColumn imdbRating\"})\n",
    "\n",
    "lista1 = []\n",
    "\n",
    "o = 0\n",
    "for y in estrellas:\n",
    "    a = estrellas[o].getText().strip()\n",
    "    o += 1\n",
    "    lista1.append(a)\n",
    "\n",
    "df3 = pd.DataFrame(lista1)\n",
    "\n",
    "concatenados = pd.concat([concatenado,df3], axis=1)\n",
    "\n",
    "diccio_nuevas3 = {0: \"Puntuación\"}\n",
    "concatenados.rename(columns = diccio_nuevas3, inplace=True)\n",
    "\n",
    "concatenados"
   ]
  },
  {
   "cell_type": "code",
   "execution_count": 127,
   "metadata": {},
   "outputs": [],
   "source": [
    "diccionario = {'enlace':lista_enlaces}"
   ]
  },
  {
   "cell_type": "code",
   "execution_count": 128,
   "metadata": {},
   "outputs": [],
   "source": [
    "data = pd.DataFrame(diccionario)"
   ]
  },
  {
   "cell_type": "code",
   "execution_count": 129,
   "metadata": {},
   "outputs": [],
   "source": [
    "def funcionzaca_epica(enlace):\n",
    "    html = requests.get(enlace)\n",
    "    soup = BeautifulSoup(html.content,\"html.parser\")\n",
    "    textaco = soup.findAll(\"a\", {\"class\":\"ipc-metadata-list-item__list-content-item ipc-metadata-list-item__list-content-item--link\"})\n",
    "    return textaco[0].getText().strip()"
   ]
  },
  {
   "cell_type": "code",
   "execution_count": 130,
   "metadata": {},
   "outputs": [],
   "source": [
    "data[\"director\"] = data.enlace.apply(funcionzaca_epica)"
   ]
  },
  {
   "cell_type": "code",
   "execution_count": 134,
   "metadata": {},
   "outputs": [],
   "source": [
    "dfinal = pd.concat([concatenados,data], axis=1)"
   ]
  },
  {
   "cell_type": "code",
   "execution_count": 135,
   "metadata": {},
   "outputs": [
    {
     "data": {
      "text/html": [
       "<div>\n",
       "<style scoped>\n",
       "    .dataframe tbody tr th:only-of-type {\n",
       "        vertical-align: middle;\n",
       "    }\n",
       "\n",
       "    .dataframe tbody tr th {\n",
       "        vertical-align: top;\n",
       "    }\n",
       "\n",
       "    .dataframe thead th {\n",
       "        text-align: right;\n",
       "    }\n",
       "</style>\n",
       "<table border=\"1\" class=\"dataframe\">\n",
       "  <thead>\n",
       "    <tr style=\"text-align: right;\">\n",
       "      <th></th>\n",
       "      <th>Nombre_peliculas</th>\n",
       "      <th>Año_estreno</th>\n",
       "      <th>Puntuación</th>\n",
       "      <th>enlace</th>\n",
       "      <th>director</th>\n",
       "    </tr>\n",
       "  </thead>\n",
       "  <tbody>\n",
       "    <tr>\n",
       "      <th>0</th>\n",
       "      <td>Cadena perpetua</td>\n",
       "      <td>(1994)</td>\n",
       "      <td>9.2</td>\n",
       "      <td>https://www.imdb.com//title/tt0111161/</td>\n",
       "      <td>Frank Darabont</td>\n",
       "    </tr>\n",
       "    <tr>\n",
       "      <th>1</th>\n",
       "      <td>El padrino</td>\n",
       "      <td>(1972)</td>\n",
       "      <td>9.1</td>\n",
       "      <td>https://www.imdb.com//title/tt0068646/</td>\n",
       "      <td>Francis Ford Coppola</td>\n",
       "    </tr>\n",
       "    <tr>\n",
       "      <th>2</th>\n",
       "      <td>El padrino: Parte II</td>\n",
       "      <td>(1974)</td>\n",
       "      <td>9.0</td>\n",
       "      <td>https://www.imdb.com//title/tt0071562/</td>\n",
       "      <td>Francis Ford Coppola</td>\n",
       "    </tr>\n",
       "    <tr>\n",
       "      <th>3</th>\n",
       "      <td>El caballero oscuro</td>\n",
       "      <td>(2008)</td>\n",
       "      <td>9.0</td>\n",
       "      <td>https://www.imdb.com//title/tt0468569/</td>\n",
       "      <td>Christopher Nolan</td>\n",
       "    </tr>\n",
       "    <tr>\n",
       "      <th>4</th>\n",
       "      <td>12 hombres sin piedad</td>\n",
       "      <td>(1957)</td>\n",
       "      <td>8.9</td>\n",
       "      <td>https://www.imdb.com//title/tt0050083/</td>\n",
       "      <td>Sidney Lumet</td>\n",
       "    </tr>\n",
       "    <tr>\n",
       "      <th>...</th>\n",
       "      <td>...</td>\n",
       "      <td>...</td>\n",
       "      <td>...</td>\n",
       "      <td>...</td>\n",
       "      <td>...</td>\n",
       "    </tr>\n",
       "    <tr>\n",
       "      <th>245</th>\n",
       "      <td>La princesa prometida</td>\n",
       "      <td>(1987)</td>\n",
       "      <td>8.0</td>\n",
       "      <td>https://www.imdb.com//title/tt0093779/</td>\n",
       "      <td>Rob Reiner</td>\n",
       "    </tr>\n",
       "    <tr>\n",
       "      <th>246</th>\n",
       "      <td>Las noches de Cabiria</td>\n",
       "      <td>(1957)</td>\n",
       "      <td>8.0</td>\n",
       "      <td>https://www.imdb.com//title/tt0050783/</td>\n",
       "      <td>Federico Fellini</td>\n",
       "    </tr>\n",
       "    <tr>\n",
       "      <th>247</th>\n",
       "      <td>Paris, Texas</td>\n",
       "      <td>(1984)</td>\n",
       "      <td>8.0</td>\n",
       "      <td>https://www.imdb.com//title/tt0087884/</td>\n",
       "      <td>Wim Wenders</td>\n",
       "    </tr>\n",
       "    <tr>\n",
       "      <th>248</th>\n",
       "      <td>Tres colores: Rojo</td>\n",
       "      <td>(1994)</td>\n",
       "      <td>8.0</td>\n",
       "      <td>https://www.imdb.com//title/tt0111495/</td>\n",
       "      <td>Krzysztof Kieslowski</td>\n",
       "    </tr>\n",
       "    <tr>\n",
       "      <th>249</th>\n",
       "      <td>Sardar Udham</td>\n",
       "      <td>(2021)</td>\n",
       "      <td>8.0</td>\n",
       "      <td>https://www.imdb.com//title/tt10280296/</td>\n",
       "      <td>Shoojit Sircar</td>\n",
       "    </tr>\n",
       "  </tbody>\n",
       "</table>\n",
       "<p>250 rows × 5 columns</p>\n",
       "</div>"
      ],
      "text/plain": [
       "          Nombre_peliculas Año_estreno Puntuación  \\\n",
       "0          Cadena perpetua      (1994)        9.2   \n",
       "1               El padrino      (1972)        9.1   \n",
       "2     El padrino: Parte II      (1974)        9.0   \n",
       "3      El caballero oscuro      (2008)        9.0   \n",
       "4    12 hombres sin piedad      (1957)        8.9   \n",
       "..                     ...         ...        ...   \n",
       "245  La princesa prometida      (1987)        8.0   \n",
       "246  Las noches de Cabiria      (1957)        8.0   \n",
       "247           Paris, Texas      (1984)        8.0   \n",
       "248     Tres colores: Rojo      (1994)        8.0   \n",
       "249           Sardar Udham      (2021)        8.0   \n",
       "\n",
       "                                      enlace              director  \n",
       "0     https://www.imdb.com//title/tt0111161/        Frank Darabont  \n",
       "1     https://www.imdb.com//title/tt0068646/  Francis Ford Coppola  \n",
       "2     https://www.imdb.com//title/tt0071562/  Francis Ford Coppola  \n",
       "3     https://www.imdb.com//title/tt0468569/     Christopher Nolan  \n",
       "4     https://www.imdb.com//title/tt0050083/          Sidney Lumet  \n",
       "..                                       ...                   ...  \n",
       "245   https://www.imdb.com//title/tt0093779/            Rob Reiner  \n",
       "246   https://www.imdb.com//title/tt0050783/      Federico Fellini  \n",
       "247   https://www.imdb.com//title/tt0087884/           Wim Wenders  \n",
       "248   https://www.imdb.com//title/tt0111495/  Krzysztof Kieslowski  \n",
       "249  https://www.imdb.com//title/tt10280296/        Shoojit Sircar  \n",
       "\n",
       "[250 rows x 5 columns]"
      ]
     },
     "execution_count": 135,
     "metadata": {},
     "output_type": "execute_result"
    }
   ],
   "source": [
    "dfinal"
   ]
  },
  {
   "cell_type": "code",
   "execution_count": null,
   "metadata": {},
   "outputs": [],
   "source": [
    "#Otra forma de sacar los directores desde la misma pagina"
   ]
  },
  {
   "cell_type": "code",
   "execution_count": 177,
   "metadata": {},
   "outputs": [],
   "source": [
    "directores = soup.findAll(\"td\",{\"class\": \"titleColumn\"})"
   ]
  },
  {
   "cell_type": "code",
   "execution_count": 178,
   "metadata": {},
   "outputs": [
    {
     "data": {
      "text/plain": [
       "'Frank Darabont'"
      ]
     },
     "execution_count": 178,
     "metadata": {},
     "output_type": "execute_result"
    }
   ],
   "source": [
    "directores[0].find('a').get('title').split(' (dir')[0]\n"
   ]
  },
  {
   "cell_type": "code",
   "execution_count": 181,
   "metadata": {},
   "outputs": [],
   "source": [
    "listadir= []\n",
    "for i in directores:\n",
    "    listadir.append(i.find('a').get('title').split(' (dir')[0])\n"
   ]
  },
  {
   "cell_type": "code",
   "execution_count": 184,
   "metadata": {},
   "outputs": [],
   "source": [
    "data2 = pd.Series(listadir)"
   ]
  },
  {
   "cell_type": "code",
   "execution_count": 186,
   "metadata": {},
   "outputs": [],
   "source": [
    "dfinal['directores2']=data2"
   ]
  },
  {
   "cell_type": "code",
   "execution_count": 187,
   "metadata": {},
   "outputs": [
    {
     "data": {
      "text/html": [
       "<div>\n",
       "<style scoped>\n",
       "    .dataframe tbody tr th:only-of-type {\n",
       "        vertical-align: middle;\n",
       "    }\n",
       "\n",
       "    .dataframe tbody tr th {\n",
       "        vertical-align: top;\n",
       "    }\n",
       "\n",
       "    .dataframe thead th {\n",
       "        text-align: right;\n",
       "    }\n",
       "</style>\n",
       "<table border=\"1\" class=\"dataframe\">\n",
       "  <thead>\n",
       "    <tr style=\"text-align: right;\">\n",
       "      <th></th>\n",
       "      <th>Nombre_peliculas</th>\n",
       "      <th>Año_estreno</th>\n",
       "      <th>Puntuación</th>\n",
       "      <th>enlace</th>\n",
       "      <th>director</th>\n",
       "      <th>directores2</th>\n",
       "    </tr>\n",
       "  </thead>\n",
       "  <tbody>\n",
       "    <tr>\n",
       "      <th>0</th>\n",
       "      <td>Cadena perpetua</td>\n",
       "      <td>(1994)</td>\n",
       "      <td>9.2</td>\n",
       "      <td>https://www.imdb.com//title/tt0111161/</td>\n",
       "      <td>Frank Darabont</td>\n",
       "      <td>Frank Darabont</td>\n",
       "    </tr>\n",
       "    <tr>\n",
       "      <th>1</th>\n",
       "      <td>El padrino</td>\n",
       "      <td>(1972)</td>\n",
       "      <td>9.1</td>\n",
       "      <td>https://www.imdb.com//title/tt0068646/</td>\n",
       "      <td>Francis Ford Coppola</td>\n",
       "      <td>Francis Ford Coppola</td>\n",
       "    </tr>\n",
       "    <tr>\n",
       "      <th>2</th>\n",
       "      <td>El padrino: Parte II</td>\n",
       "      <td>(1974)</td>\n",
       "      <td>9.0</td>\n",
       "      <td>https://www.imdb.com//title/tt0071562/</td>\n",
       "      <td>Francis Ford Coppola</td>\n",
       "      <td>Francis Ford Coppola</td>\n",
       "    </tr>\n",
       "    <tr>\n",
       "      <th>3</th>\n",
       "      <td>El caballero oscuro</td>\n",
       "      <td>(2008)</td>\n",
       "      <td>9.0</td>\n",
       "      <td>https://www.imdb.com//title/tt0468569/</td>\n",
       "      <td>Christopher Nolan</td>\n",
       "      <td>Christopher Nolan</td>\n",
       "    </tr>\n",
       "    <tr>\n",
       "      <th>4</th>\n",
       "      <td>12 hombres sin piedad</td>\n",
       "      <td>(1957)</td>\n",
       "      <td>8.9</td>\n",
       "      <td>https://www.imdb.com//title/tt0050083/</td>\n",
       "      <td>Sidney Lumet</td>\n",
       "      <td>Sidney Lumet</td>\n",
       "    </tr>\n",
       "    <tr>\n",
       "      <th>...</th>\n",
       "      <td>...</td>\n",
       "      <td>...</td>\n",
       "      <td>...</td>\n",
       "      <td>...</td>\n",
       "      <td>...</td>\n",
       "      <td>...</td>\n",
       "    </tr>\n",
       "    <tr>\n",
       "      <th>245</th>\n",
       "      <td>La princesa prometida</td>\n",
       "      <td>(1987)</td>\n",
       "      <td>8.0</td>\n",
       "      <td>https://www.imdb.com//title/tt0093779/</td>\n",
       "      <td>Rob Reiner</td>\n",
       "      <td>Rob Reiner</td>\n",
       "    </tr>\n",
       "    <tr>\n",
       "      <th>246</th>\n",
       "      <td>Las noches de Cabiria</td>\n",
       "      <td>(1957)</td>\n",
       "      <td>8.0</td>\n",
       "      <td>https://www.imdb.com//title/tt0050783/</td>\n",
       "      <td>Federico Fellini</td>\n",
       "      <td>Federico Fellini</td>\n",
       "    </tr>\n",
       "    <tr>\n",
       "      <th>247</th>\n",
       "      <td>Paris, Texas</td>\n",
       "      <td>(1984)</td>\n",
       "      <td>8.0</td>\n",
       "      <td>https://www.imdb.com//title/tt0087884/</td>\n",
       "      <td>Wim Wenders</td>\n",
       "      <td>Wim Wenders</td>\n",
       "    </tr>\n",
       "    <tr>\n",
       "      <th>248</th>\n",
       "      <td>Tres colores: Rojo</td>\n",
       "      <td>(1994)</td>\n",
       "      <td>8.0</td>\n",
       "      <td>https://www.imdb.com//title/tt0111495/</td>\n",
       "      <td>Krzysztof Kieslowski</td>\n",
       "      <td>Krzysztof Kieslowski</td>\n",
       "    </tr>\n",
       "    <tr>\n",
       "      <th>249</th>\n",
       "      <td>Sardar Udham</td>\n",
       "      <td>(2021)</td>\n",
       "      <td>8.0</td>\n",
       "      <td>https://www.imdb.com//title/tt10280296/</td>\n",
       "      <td>Shoojit Sircar</td>\n",
       "      <td>Shoojit Sircar</td>\n",
       "    </tr>\n",
       "  </tbody>\n",
       "</table>\n",
       "<p>250 rows × 6 columns</p>\n",
       "</div>"
      ],
      "text/plain": [
       "          Nombre_peliculas Año_estreno Puntuación  \\\n",
       "0          Cadena perpetua      (1994)        9.2   \n",
       "1               El padrino      (1972)        9.1   \n",
       "2     El padrino: Parte II      (1974)        9.0   \n",
       "3      El caballero oscuro      (2008)        9.0   \n",
       "4    12 hombres sin piedad      (1957)        8.9   \n",
       "..                     ...         ...        ...   \n",
       "245  La princesa prometida      (1987)        8.0   \n",
       "246  Las noches de Cabiria      (1957)        8.0   \n",
       "247           Paris, Texas      (1984)        8.0   \n",
       "248     Tres colores: Rojo      (1994)        8.0   \n",
       "249           Sardar Udham      (2021)        8.0   \n",
       "\n",
       "                                      enlace              director  \\\n",
       "0     https://www.imdb.com//title/tt0111161/        Frank Darabont   \n",
       "1     https://www.imdb.com//title/tt0068646/  Francis Ford Coppola   \n",
       "2     https://www.imdb.com//title/tt0071562/  Francis Ford Coppola   \n",
       "3     https://www.imdb.com//title/tt0468569/     Christopher Nolan   \n",
       "4     https://www.imdb.com//title/tt0050083/          Sidney Lumet   \n",
       "..                                       ...                   ...   \n",
       "245   https://www.imdb.com//title/tt0093779/            Rob Reiner   \n",
       "246   https://www.imdb.com//title/tt0050783/      Federico Fellini   \n",
       "247   https://www.imdb.com//title/tt0087884/           Wim Wenders   \n",
       "248   https://www.imdb.com//title/tt0111495/  Krzysztof Kieslowski   \n",
       "249  https://www.imdb.com//title/tt10280296/        Shoojit Sircar   \n",
       "\n",
       "              directores2  \n",
       "0          Frank Darabont  \n",
       "1    Francis Ford Coppola  \n",
       "2    Francis Ford Coppola  \n",
       "3       Christopher Nolan  \n",
       "4            Sidney Lumet  \n",
       "..                    ...  \n",
       "245            Rob Reiner  \n",
       "246      Federico Fellini  \n",
       "247           Wim Wenders  \n",
       "248  Krzysztof Kieslowski  \n",
       "249        Shoojit Sircar  \n",
       "\n",
       "[250 rows x 6 columns]"
      ]
     },
     "execution_count": 187,
     "metadata": {},
     "output_type": "execute_result"
    }
   ],
   "source": [
    "dfinal"
   ]
  },
  {
   "cell_type": "code",
   "execution_count": 162,
   "metadata": {},
   "outputs": [
    {
     "data": {
      "text/plain": [
       "'Frank Darabont ('"
      ]
     },
     "execution_count": 162,
     "metadata": {},
     "output_type": "execute_result"
    }
   ],
   "source": []
  },
  {
   "cell_type": "code",
   "execution_count": null,
   "metadata": {},
   "outputs": [],
   "source": []
  }
 ],
 "metadata": {
  "kernelspec": {
   "display_name": "ironhack",
   "language": "python",
   "name": "ironhack"
  },
  "language_info": {
   "codemirror_mode": {
    "name": "ipython",
    "version": 3
   },
   "file_extension": ".py",
   "mimetype": "text/x-python",
   "name": "python",
   "nbconvert_exporter": "python",
   "pygments_lexer": "ipython3",
   "version": "3.8.8"
  },
  "toc": {
   "base_numbering": 1,
   "nav_menu": {},
   "number_sections": false,
   "sideBar": true,
   "skip_h1_title": false,
   "title_cell": "Table of Contents",
   "title_sidebar": "Contents",
   "toc_cell": false,
   "toc_position": {
    "height": "calc(100% - 180px)",
    "left": "10px",
    "top": "150px",
    "width": "288px"
   },
   "toc_section_display": true,
   "toc_window_display": false
  }
 },
 "nbformat": 4,
 "nbformat_minor": 2
}
